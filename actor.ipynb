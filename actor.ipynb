{
 "cells": [
  {
   "cell_type": "code",
   "execution_count": 2,
   "id": "6df3ddcc",
   "metadata": {
    "ExecuteTime": {
     "end_time": "2022-12-08T09:47:34.513155Z",
     "start_time": "2022-12-08T09:47:34.509664Z"
    }
   },
   "outputs": [],
   "source": [
    "import warnings\n",
    "warnings.filterwarnings('ignore')"
   ]
  },
  {
   "cell_type": "code",
   "execution_count": 3,
   "id": "cfd278b0",
   "metadata": {
    "ExecuteTime": {
     "end_time": "2022-12-08T09:47:36.740543Z",
     "start_time": "2022-12-08T09:47:35.069854Z"
    }
   },
   "outputs": [
    {
     "name": "stderr",
     "output_type": "stream",
     "text": [
      "2022-12-08 15:17:35.080986: I tensorflow/core/platform/cpu_feature_guard.cc:193] This TensorFlow binary is optimized with oneAPI Deep Neural Network Library (oneDNN) to use the following CPU instructions in performance-critical operations:  AVX2 FMA\n",
      "To enable them in other operations, rebuild TensorFlow with the appropriate compiler flags.\n",
      "2022-12-08 15:17:35.245464: W tensorflow/stream_executor/platform/default/dso_loader.cc:64] Could not load dynamic library 'libcudart.so.11.0'; dlerror: libcudart.so.11.0: cannot open shared object file: No such file or directory\n",
      "2022-12-08 15:17:35.245488: I tensorflow/stream_executor/cuda/cudart_stub.cc:29] Ignore above cudart dlerror if you do not have a GPU set up on your machine.\n",
      "2022-12-08 15:17:35.273538: E tensorflow/stream_executor/cuda/cuda_blas.cc:2981] Unable to register cuBLAS factory: Attempting to register factory for plugin cuBLAS when one has already been registered\n",
      "2022-12-08 15:17:35.864483: W tensorflow/stream_executor/platform/default/dso_loader.cc:64] Could not load dynamic library 'libnvinfer.so.7'; dlerror: libnvinfer.so.7: cannot open shared object file: No such file or directory\n",
      "2022-12-08 15:17:35.864569: W tensorflow/stream_executor/platform/default/dso_loader.cc:64] Could not load dynamic library 'libnvinfer_plugin.so.7'; dlerror: libnvinfer_plugin.so.7: cannot open shared object file: No such file or directory\n",
      "2022-12-08 15:17:35.864577: W tensorflow/compiler/tf2tensorrt/utils/py_utils.cc:38] TF-TRT Warning: Cannot dlopen some TensorRT libraries. If you would like to use Nvidia GPU with TensorRT, please make sure the missing libraries mentioned above are installed properly.\n"
     ]
    }
   ],
   "source": [
    "from keras.preprocessing.image import ImageDataGenerator"
   ]
  },
  {
   "cell_type": "code",
   "execution_count": 4,
   "id": "a1d005d4",
   "metadata": {
    "ExecuteTime": {
     "end_time": "2022-12-08T09:47:38.288195Z",
     "start_time": "2022-12-08T09:47:38.284893Z"
    }
   },
   "outputs": [],
   "source": [
    "train_data = ImageDataGenerator(horizontal_flip=True,vertical_flip=False,rescale=1./255,shear_range=0.02,zoom_range=0.02)\n",
    "validation_data = ImageDataGenerator(rescale=1./255)\n",
    "test_data = ImageDataGenerator(rescale=1./255)"
   ]
  },
  {
   "cell_type": "code",
   "execution_count": 5,
   "id": "9de1c6ca",
   "metadata": {
    "ExecuteTime": {
     "end_time": "2022-12-08T09:47:39.191656Z",
     "start_time": "2022-12-08T09:47:39.165570Z"
    }
   },
   "outputs": [
    {
     "name": "stdout",
     "output_type": "stream",
     "text": [
      "Found 33 images belonging to 2 classes.\n",
      "Found 8 images belonging to 2 classes.\n",
      "Found 17 images belonging to 2 classes.\n"
     ]
    }
   ],
   "source": [
    "train = train_data.flow_from_directory(directory = r'/home/ubuntu/Desktop/New Folder/train/',target_size=(224, 224),color_mode='rgb', \n",
    "                                       class_mode =\"binary\")\n",
    "\n",
    "validate = validation_data.flow_from_directory(directory = r'/home/ubuntu/Desktop/New Folder/validate/',target_size=(224, 224),color_mode='rgb', \n",
    "                                       class_mode =\"binary\")\n",
    "\n",
    "test = test_data.flow_from_directory(directory= r'/home/ubuntu/Desktop/New Folder/test/',target_size=(224, 224),color_mode='rgb', \n",
    "                                     class_mode=\"categorical\")"
   ]
  },
  {
   "cell_type": "code",
   "execution_count": 6,
   "id": "92e06685",
   "metadata": {
    "ExecuteTime": {
     "end_time": "2022-12-08T09:47:40.295202Z",
     "start_time": "2022-12-08T09:47:40.277968Z"
    }
   },
   "outputs": [
    {
     "data": {
      "text/plain": [
       "{'Trisha': 0, 'Vijay': 1}"
      ]
     },
     "execution_count": 6,
     "metadata": {},
     "output_type": "execute_result"
    }
   ],
   "source": [
    "train.class_indices"
   ]
  },
  {
   "cell_type": "code",
   "execution_count": 7,
   "id": "cebcf805",
   "metadata": {
    "ExecuteTime": {
     "end_time": "2022-12-08T09:47:41.459509Z",
     "start_time": "2022-12-08T09:47:41.403935Z"
    }
   },
   "outputs": [],
   "source": [
    "import tensorflow as tf\n",
    "from tensorflow.keras.models import Model\n",
    "from tensorflow.keras.layers import Dense, MaxPool2D, Flatten"
   ]
  },
  {
   "cell_type": "code",
   "execution_count": 8,
   "id": "0e405ead",
   "metadata": {
    "ExecuteTime": {
     "end_time": "2022-12-08T09:47:46.099744Z",
     "start_time": "2022-12-08T09:47:45.165191Z"
    }
   },
   "outputs": [
    {
     "name": "stderr",
     "output_type": "stream",
     "text": [
      "2022-12-08 15:17:45.176402: W tensorflow/stream_executor/platform/default/dso_loader.cc:64] Could not load dynamic library 'libcuda.so.1'; dlerror: libcuda.so.1: cannot open shared object file: No such file or directory\n",
      "2022-12-08 15:17:45.176435: W tensorflow/stream_executor/cuda/cuda_driver.cc:263] failed call to cuInit: UNKNOWN ERROR (303)\n",
      "2022-12-08 15:17:45.176465: I tensorflow/stream_executor/cuda/cuda_diagnostics.cc:156] kernel driver does not appear to be running on this host (ubuntu-Zako): /proc/driver/nvidia/version does not exist\n",
      "2022-12-08 15:17:45.176761: I tensorflow/core/platform/cpu_feature_guard.cc:193] This TensorFlow binary is optimized with oneAPI Deep Neural Network Library (oneDNN) to use the following CPU instructions in performance-critical operations:  AVX2 FMA\n",
      "To enable them in other operations, rebuild TensorFlow with the appropriate compiler flags.\n",
      "2022-12-08 15:17:45.453155: W tensorflow/core/framework/cpu_allocator_impl.cc:82] Allocation of 411041792 exceeds 10% of free system memory.\n",
      "2022-12-08 15:17:45.778696: W tensorflow/core/framework/cpu_allocator_impl.cc:82] Allocation of 411041792 exceeds 10% of free system memory.\n",
      "2022-12-08 15:17:45.861026: W tensorflow/core/framework/cpu_allocator_impl.cc:82] Allocation of 411041792 exceeds 10% of free system memory.\n"
     ]
    }
   ],
   "source": [
    "model = tf.keras.models.Sequential()\n",
    "\n",
    "model.add(tf.keras.layers.Conv2D(input_shape=(224,224,3),filters=64,kernel_size=(3,3),padding=\"same\", activation=\"relu\"))\n",
    "model.add(tf.keras.layers.Conv2D(filters=64,kernel_size=(3,3),padding=\"same\",activation='relu'))\n",
    "model.add(tf.keras.layers.MaxPool2D(pool_size=(2,2),strides=2))\n",
    "\n",
    "model.add(tf.keras.layers.Conv2D(filters=128,kernel_size=(3,3),padding=\"same\",activation='relu'))\n",
    "model.add(tf.keras.layers.Conv2D(filters=128,kernel_size=(3,3),padding=\"same\",activation='relu'))\n",
    "model.add(tf.keras.layers.MaxPool2D(pool_size=(2,2),strides=2))\n",
    "\n",
    "model.add(tf.keras.layers.Conv2D(filters=256,kernel_size=(3,3),padding=\"same\",activation='relu'))\n",
    "model.add(tf.keras.layers.Conv2D(filters=256,kernel_size=(3,3),padding=\"same\",activation='relu'))\n",
    "model.add(tf.keras.layers.Conv2D(filters=256,kernel_size=(3,3),padding=\"same\",activation='relu'))\n",
    "model.add(tf.keras.layers.MaxPool2D(pool_size=(2,2),strides=2))\n",
    "\n",
    "model.add(tf.keras.layers.Conv2D(filters=512,kernel_size=(3,3),padding=\"same\",activation='relu'))\n",
    "model.add(tf.keras.layers.Conv2D(filters=512,kernel_size=(3,3),padding=\"same\",activation='relu'))\n",
    "model.add(tf.keras.layers.Conv2D(filters=512,kernel_size=(3,3),padding=\"same\",activation='relu'))\n",
    "model.add(tf.keras.layers.MaxPool2D(pool_size=(2,2),strides=2))\n",
    "\n",
    "model.add(tf.keras.layers.Conv2D(filters=512,kernel_size=(3,3),padding=\"same\",activation='relu'))\n",
    "model.add(tf.keras.layers.Conv2D(filters=512,kernel_size=(3,3),padding=\"same\",activation='relu'))\n",
    "model.add(tf.keras.layers.Conv2D(filters=512,kernel_size=(3,3),padding=\"same\",activation='relu'))\n",
    "model.add(tf.keras.layers.MaxPool2D(pool_size=(2,2),strides=2))\n",
    "\n",
    "model.add(tf.keras.layers.Flatten())\n",
    "  \n",
    "model.add(tf.keras.layers.Dense(4096,name=\"dense1\",activation=\"relu\"))\n",
    "model.add(tf.keras.layers.Dense(4096,name=\"dense2\",activation=\"relu\"))\n",
    "model.add(tf.keras.layers.Dense(1,name=\"output\",activation=\"sigmoid\"))"
   ]
  },
  {
   "cell_type": "code",
   "execution_count": 9,
   "id": "2d97cd41",
   "metadata": {
    "ExecuteTime": {
     "end_time": "2022-12-08T09:47:47.343092Z",
     "start_time": "2022-12-08T09:47:47.323935Z"
    }
   },
   "outputs": [],
   "source": [
    "model.compile(optimizer='adam',loss=['binary_crossentropy'],metrics=['accuracy'])"
   ]
  },
  {
   "cell_type": "code",
   "execution_count": 10,
   "id": "45f2a1e5",
   "metadata": {
    "ExecuteTime": {
     "end_time": "2022-12-08T09:49:24.321801Z",
     "start_time": "2022-12-08T09:47:49.861084Z"
    }
   },
   "outputs": [
    {
     "name": "stdout",
     "output_type": "stream",
     "text": [
      "Epoch 1/2\n"
     ]
    },
    {
     "name": "stderr",
     "output_type": "stream",
     "text": [
      "2022-12-08 15:17:50.514519: W tensorflow/core/framework/cpu_allocator_impl.cc:82] Allocation of 411041792 exceeds 10% of free system memory.\n",
      "2022-12-08 15:17:50.633429: W tensorflow/core/framework/cpu_allocator_impl.cc:82] Allocation of 411041792 exceeds 10% of free system memory.\n"
     ]
    },
    {
     "name": "stdout",
     "output_type": "stream",
     "text": [
      "2/2 [==============================] - 48s 5s/step - loss: 0.6962 - accuracy: 0.4848 - val_loss: 0.8079 - val_accuracy: 0.5000\n",
      "Epoch 2/2\n",
      "2/2 [==============================] - 46s 5s/step - loss: 0.7573 - accuracy: 0.5152 - val_loss: 0.6932 - val_accuracy: 0.5000\n",
      "CPU times: user 4min 55s, sys: 11.3 s, total: 5min 6s\n",
      "Wall time: 1min 34s\n"
     ]
    },
    {
     "data": {
      "text/plain": [
       "<keras.callbacks.History at 0x7fb498421d20>"
      ]
     },
     "execution_count": 10,
     "metadata": {},
     "output_type": "execute_result"
    }
   ],
   "source": [
    "%%time\n",
    "model.fit( x = train, epochs = 2, validation_data = validate,steps_per_epoch= 2)"
   ]
  },
  {
   "cell_type": "code",
   "execution_count": 11,
   "id": "13ffc8a8",
   "metadata": {
    "ExecuteTime": {
     "end_time": "2022-12-08T09:52:17.869535Z",
     "start_time": "2022-12-08T09:52:15.472311Z"
    }
   },
   "outputs": [
    {
     "data": {
      "text/plain": [
       "[0.6931511163711548, 0.5]"
      ]
     },
     "execution_count": 11,
     "metadata": {},
     "output_type": "execute_result"
    }
   ],
   "source": [
    "model.evaluate_generator(generator =validate)"
   ]
  },
  {
   "cell_type": "code",
   "execution_count": 12,
   "id": "bb49b5db",
   "metadata": {
    "ExecuteTime": {
     "end_time": "2022-12-08T09:52:24.927577Z",
     "start_time": "2022-12-08T09:52:19.467039Z"
    }
   },
   "outputs": [
    {
     "data": {
      "text/plain": [
       "[0.6932032108306885, 0.5]"
      ]
     },
     "execution_count": 12,
     "metadata": {},
     "output_type": "execute_result"
    }
   ],
   "source": [
    "model.evaluate_generator(generator = test)"
   ]
  },
  {
   "cell_type": "code",
   "execution_count": 13,
   "id": "cff16adc",
   "metadata": {
    "ExecuteTime": {
     "end_time": "2022-12-08T09:52:30.741643Z",
     "start_time": "2022-12-08T09:52:26.843969Z"
    }
   },
   "outputs": [],
   "source": [
    "model.save(filepath= 'CNN_binary_demo.h5')"
   ]
  },
  {
   "cell_type": "code",
   "execution_count": 14,
   "id": "52912044",
   "metadata": {
    "ExecuteTime": {
     "end_time": "2022-12-08T09:52:44.306611Z",
     "start_time": "2022-12-08T09:52:44.296496Z"
    }
   },
   "outputs": [],
   "source": [
    "from keras.models import load_model\n",
    "import numpy as np\n",
    "from keras.preprocessing import image"
   ]
  },
  {
   "cell_type": "code",
   "execution_count": 15,
   "id": "de7c25c9",
   "metadata": {
    "ExecuteTime": {
     "end_time": "2022-12-08T09:52:46.317861Z",
     "start_time": "2022-12-08T09:52:46.307726Z"
    }
   },
   "outputs": [],
   "source": [
    "test_image = tf.keras.utils.load_img(r'/home/ubuntu/Desktop/New Folder/test/Trisha/images (4).jpeg', target_size = (224,224))\n",
    "test_image = tf.keras.utils.img_to_array(test_image)\n",
    "test_image = np.expand_dims(test_image, axis = 0)"
   ]
  },
  {
   "cell_type": "code",
   "execution_count": null,
   "id": "3415fb53",
   "metadata": {
    "ExecuteTime": {
     "start_time": "2022-12-08T09:52:48.500Z"
    }
   },
   "outputs": [],
   "source": [
    "model = load_model('CNN_binary_demo.h5')\n",
    "result = model.predict(test_image)\n"
   ]
  },
  {
   "cell_type": "code",
   "execution_count": null,
   "id": "0bfb7fde",
   "metadata": {},
   "outputs": [],
   "source": []
  },
  {
   "cell_type": "code",
   "execution_count": null,
   "id": "165921a0",
   "metadata": {
    "ExecuteTime": {
     "start_time": "2022-12-08T09:29:00.063Z"
    }
   },
   "outputs": [],
   "source": [
    "# for my_batch in train:\n",
    "#     images = my_batch[0]\n",
    "#     label = my_batch[1]\n",
    "    \n",
    "#     for i in range(len(label)):\n",
    "#         plt.imshow(images[i])\n",
    "#         plt.colorbar()\n",
    "#         plt.show()\n",
    "#         print(label[i])\n",
    "#     break        "
   ]
  },
  {
   "cell_type": "code",
   "execution_count": null,
   "id": "41e26949",
   "metadata": {
    "ExecuteTime": {
     "end_time": "2022-12-07T06:24:31.439628Z",
     "start_time": "2022-12-07T06:24:31.434334Z"
    }
   },
   "outputs": [],
   "source": []
  },
  {
   "cell_type": "code",
   "execution_count": null,
   "id": "8720b8f5",
   "metadata": {},
   "outputs": [],
   "source": []
  },
  {
   "cell_type": "code",
   "execution_count": null,
   "id": "49cebe62",
   "metadata": {},
   "outputs": [],
   "source": []
  },
  {
   "cell_type": "code",
   "execution_count": null,
   "id": "b1057eb7",
   "metadata": {},
   "outputs": [],
   "source": []
  }
 ],
 "metadata": {
  "kernelspec": {
   "display_name": "Python 3 (ipykernel)",
   "language": "python",
   "name": "python3"
  },
  "language_info": {
   "codemirror_mode": {
    "name": "ipython",
    "version": 3
   },
   "file_extension": ".py",
   "mimetype": "text/x-python",
   "name": "python",
   "nbconvert_exporter": "python",
   "pygments_lexer": "ipython3",
   "version": "3.10.6"
  },
  "varInspector": {
   "cols": {
    "lenName": 16,
    "lenType": 16,
    "lenVar": 40
   },
   "kernels_config": {
    "python": {
     "delete_cmd_postfix": "",
     "delete_cmd_prefix": "del ",
     "library": "var_list.py",
     "varRefreshCmd": "print(var_dic_list())"
    },
    "r": {
     "delete_cmd_postfix": ") ",
     "delete_cmd_prefix": "rm(",
     "library": "var_list.r",
     "varRefreshCmd": "cat(var_dic_list()) "
    }
   },
   "types_to_exclude": [
    "module",
    "function",
    "builtin_function_or_method",
    "instance",
    "_Feature"
   ],
   "window_display": false
  }
 },
 "nbformat": 4,
 "nbformat_minor": 5
}
